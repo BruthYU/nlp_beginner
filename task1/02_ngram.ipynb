{
 "cells": [
  {
   "cell_type": "code",
   "execution_count": 1,
   "id": "3479a347",
   "metadata": {},
   "outputs": [
    {
     "data": {
      "text/html": [
       "<style type='text/css'>\n",
       ".datatable table.frame { margin-bottom: 0; }\n",
       ".datatable table.frame thead { border-bottom: none; }\n",
       ".datatable table.frame tr.coltypes td {  color: #FFFFFF;  line-height: 6px;  padding: 0 0.5em;}\n",
       ".datatable .bool    { background: #DDDD99; }\n",
       ".datatable .object  { background: #565656; }\n",
       ".datatable .int     { background: #5D9E5D; }\n",
       ".datatable .float   { background: #4040CC; }\n",
       ".datatable .str     { background: #CC4040; }\n",
       ".datatable .time    { background: #40CC40; }\n",
       ".datatable .row_index {  background: var(--jp-border-color3);  border-right: 1px solid var(--jp-border-color0);  color: var(--jp-ui-font-color3);  font-size: 9px;}\n",
       ".datatable .frame tbody td { text-align: left; }\n",
       ".datatable .frame tr.coltypes .row_index {  background: var(--jp-border-color0);}\n",
       ".datatable th:nth-child(2) { padding-left: 12px; }\n",
       ".datatable .hellipsis {  color: var(--jp-cell-editor-border-color);}\n",
       ".datatable .vellipsis {  background: var(--jp-layout-color0);  color: var(--jp-cell-editor-border-color);}\n",
       ".datatable .na {  color: var(--jp-cell-editor-border-color);  font-size: 80%;}\n",
       ".datatable .sp {  opacity: 0.25;}\n",
       ".datatable .footer { font-size: 9px; }\n",
       ".datatable .frame_dimensions {  background: var(--jp-border-color3);  border-top: 1px solid var(--jp-border-color0);  color: var(--jp-ui-font-color3);  display: inline-block;  opacity: 0.6;  padding: 1px 10px 1px 5px;}\n",
       "</style>\n"
      ],
      "text/plain": [
       "<IPython.core.display.HTML object>"
      ]
     },
     "metadata": {},
     "output_type": "display_data"
    }
   ],
   "source": [
    "import numpy as np # linear algebra\n",
    "import pandas as pd # data processing, CSV file I/O (e.g. pd.read_csv)\n",
    "import datatable as dt\n",
    "import os\n",
    "from sklearn.feature_extraction.text import CountVectorizer\n",
    "from sklearn.feature_extraction.text import TfidfTransformer"
   ]
  },
  {
   "cell_type": "code",
   "execution_count": 2,
   "id": "6eb3c52d",
   "metadata": {},
   "outputs": [],
   "source": [
    "train = dt.fread(\"./train.tsv\")\n",
    "train = train.to_pandas()\n",
    "phrases = train[\"Phrase\"][:5]#前5条数据"
   ]
  },
  {
   "cell_type": "code",
   "execution_count": 3,
   "id": "6f5bbe9d",
   "metadata": {
    "scrolled": false
   },
   "outputs": [
    {
     "name": "stdout",
     "output_type": "stream",
     "text": [
      "15217\n",
      "90959\n"
     ]
    }
   ],
   "source": [
    "#一元ngram模型与二元ngram模型\n",
    "one_gram_model = CountVectorizer(ngram_range=(1,1),min_df=2) #bag-of-words,且至少在2个phrase中出现过\n",
    "two_gram_model = CountVectorizer(ngram_range=(1,2),min_df=2) #二元ngram\n",
    "\n",
    "#一元分析\n",
    "one_gram_fit = one_gram_model.fit_transform(phrases)\n",
    "print(len(one_gram_model.get_feature_names_out())) #去重后的所有一元词汇\n",
    "\n",
    "#二元分析\n",
    "two_gram_fit = two_gram_model.fit_transform(phrases)\n",
    "print(len(two_gram_model.get_feature_names_out())) #去重后的所有二元词汇"
   ]
  },
  {
   "cell_type": "code",
   "execution_count": 4,
   "id": "f024f994",
   "metadata": {},
   "outputs": [
    {
     "data": {
      "text/plain": [
       "array([[1, 1, 1, 2, 2, 1, 2, 4, 1, 1, 3, 1],\n",
       "       [1, 1, 1, 1, 1, 1, 1, 1, 1, 1, 2, 1],\n",
       "       [0, 0, 0, 0, 0, 0, 0, 0, 1, 0, 0, 0],\n",
       "       [0, 0, 0, 0, 0, 0, 0, 0, 0, 0, 0, 0],\n",
       "       [0, 0, 0, 0, 0, 0, 0, 0, 1, 0, 0, 0]])"
      ]
     },
     "execution_count": 4,
     "metadata": {},
     "output_type": "execute_result"
    }
   ],
   "source": [
    "one_gram_fit.toarray()"
   ]
  },
  {
   "cell_type": "code",
   "execution_count": 5,
   "id": "f232709b",
   "metadata": {},
   "outputs": [
    {
     "data": {
      "text/plain": [
       "array([[0.15075567, 0.15075567, 0.15075567, 0.30151134, 0.30151134,\n",
       "        0.15075567, 0.30151134, 0.60302269, 0.15075567, 0.15075567,\n",
       "        0.45226702, 0.15075567],\n",
       "       [0.25819889, 0.25819889, 0.25819889, 0.25819889, 0.25819889,\n",
       "        0.25819889, 0.25819889, 0.25819889, 0.25819889, 0.25819889,\n",
       "        0.51639778, 0.25819889]])"
      ]
     },
     "execution_count": 5,
     "metadata": {},
     "output_type": "execute_result"
    }
   ],
   "source": [
    "#tf-idf向量化（正整数映射为[0,1]浮点数）\n",
    "tfidf_model = TfidfTransformer()\n",
    "tfidf_fit = tfidf_model.fit_transform(one_gram_fit[:2])\n",
    "tfidf_fit.toarray()"
   ]
  }
 ],
 "metadata": {
  "kernelspec": {
   "display_name": "Python 3 (ipykernel)",
   "language": "python",
   "name": "python3"
  },
  "language_info": {
   "codemirror_mode": {
    "name": "ipython",
    "version": 3
   },
   "file_extension": ".py",
   "mimetype": "text/x-python",
   "name": "python",
   "nbconvert_exporter": "python",
   "pygments_lexer": "ipython3",
   "version": "3.7.12"
  }
 },
 "nbformat": 4,
 "nbformat_minor": 5
}
