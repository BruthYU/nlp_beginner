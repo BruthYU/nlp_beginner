{
 "cells": [
  {
   "cell_type": "code",
   "execution_count": 1,
   "id": "deea30d9",
   "metadata": {},
   "outputs": [
    {
     "data": {
      "text/html": [
       "<style type='text/css'>\n",
       ".datatable table.frame { margin-bottom: 0; }\n",
       ".datatable table.frame thead { border-bottom: none; }\n",
       ".datatable table.frame tr.coltypes td {  color: #FFFFFF;  line-height: 6px;  padding: 0 0.5em;}\n",
       ".datatable .bool    { background: #DDDD99; }\n",
       ".datatable .object  { background: #565656; }\n",
       ".datatable .int     { background: #5D9E5D; }\n",
       ".datatable .float   { background: #4040CC; }\n",
       ".datatable .str     { background: #CC4040; }\n",
       ".datatable .time    { background: #40CC40; }\n",
       ".datatable .row_index {  background: var(--jp-border-color3);  border-right: 1px solid var(--jp-border-color0);  color: var(--jp-ui-font-color3);  font-size: 9px;}\n",
       ".datatable .frame tbody td { text-align: left; }\n",
       ".datatable .frame tr.coltypes .row_index {  background: var(--jp-border-color0);}\n",
       ".datatable th:nth-child(2) { padding-left: 12px; }\n",
       ".datatable .hellipsis {  color: var(--jp-cell-editor-border-color);}\n",
       ".datatable .vellipsis {  background: var(--jp-layout-color0);  color: var(--jp-cell-editor-border-color);}\n",
       ".datatable .na {  color: var(--jp-cell-editor-border-color);  font-size: 80%;}\n",
       ".datatable .sp {  opacity: 0.25;}\n",
       ".datatable .footer { font-size: 9px; }\n",
       ".datatable .frame_dimensions {  background: var(--jp-border-color3);  border-top: 1px solid var(--jp-border-color0);  color: var(--jp-ui-font-color3);  display: inline-block;  opacity: 0.6;  padding: 1px 10px 1px 5px;}\n",
       "</style>\n"
      ],
      "text/plain": [
       "<IPython.core.display.HTML object>"
      ]
     },
     "metadata": {},
     "output_type": "display_data"
    }
   ],
   "source": [
    "import numpy as np # linear algebra\n",
    "import pandas as pd # data processing, CSV file I/O (e.g. pd.read_csv)\n",
    "import datatable as dt\n",
    "import os\n",
    "from sklearn.feature_extraction.text import CountVectorizer\n",
    "from sklearn.feature_extraction.text import TfidfTransformer\n",
    "from sklearn.pipeline import Pipeline\n",
    "from sklearn.neural_network import MLPClassifier"
   ]
  },
  {
   "cell_type": "code",
   "execution_count": 2,
   "id": "a21be6b4",
   "metadata": {},
   "outputs": [],
   "source": [
    "#使用前1500条数据训练，预测训练集的前5条数据，仅用于测试模型\n",
    "train = dt.fread(\"./train.tsv\")\n",
    "train = train.to_pandas()\n",
    "X_train = train[\"Phrase\"][:1500]\n",
    "Y_train = train[\"Sentiment\"][:1500]\n",
    "\n",
    "pipeline = Pipeline([('ngram', CountVectorizer(ngram_range=(1,1),min_df=2)),\n",
    "                     ('tfidf', TfidfTransformer()),\n",
    "                     ('mlp', MLPClassifier(hidden_layer_sizes=(1000, 50),activation=\"logistic\",\n",
    "                                           shuffle=True,batch_size=64)),\n",
    "                      ])"
   ]
  },
  {
   "cell_type": "code",
   "execution_count": 3,
   "id": "d61a2057",
   "metadata": {},
   "outputs": [
    {
     "name": "stdout",
     "output_type": "stream",
     "text": [
      "1.0\n",
      "'A series of escapades demonstrating the adage that what is good for the goose is also good for the gander , some of which occasionally amuses but none of which amounts to much of a story .' => 1\n",
      "'A series of escapades demonstrating the adage that what is good for the goose' => 2\n",
      "'A series' => 2\n",
      "'A' => 2\n",
      "'series' => 2\n"
     ]
    }
   ],
   "source": [
    "pipeline = pipeline.fit(X_train,Y_train)\n",
    "X_test = train.head()['Phrase']\n",
    "predicted = pipeline.predict(X_test)\n",
    "print(np.mean(predicted == train.head()['Sentiment']))\n",
    "for phrase, sentiment in zip(X_test, predicted):\n",
    "    print('%r => %s' % (phrase, sentiment))"
   ]
  }
 ],
 "metadata": {
  "kernelspec": {
   "display_name": "Python 3 (ipykernel)",
   "language": "python",
   "name": "python3"
  },
  "language_info": {
   "codemirror_mode": {
    "name": "ipython",
    "version": 3
   },
   "file_extension": ".py",
   "mimetype": "text/x-python",
   "name": "python",
   "nbconvert_exporter": "python",
   "pygments_lexer": "ipython3",
   "version": "3.7.12"
  }
 },
 "nbformat": 4,
 "nbformat_minor": 5
}
