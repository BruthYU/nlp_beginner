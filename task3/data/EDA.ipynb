{
 "cells": [
  {
   "cell_type": "code",
   "execution_count": 1,
   "id": "e18713cb",
   "metadata": {},
   "outputs": [],
   "source": [
    "import json\n",
    "import os\n",
    "import numpy as np\n",
    "import pandas as pd\n",
    "import torch"
   ]
  },
  {
   "cell_type": "code",
   "execution_count": 2,
   "id": "964c2c98",
   "metadata": {},
   "outputs": [
    {
     "name": "stdout",
     "output_type": "stream",
     "text": [
      "<class 'pandas.core.frame.DataFrame'>\n",
      "RangeIndex: 9842 entries, 0 to 9841\n",
      "Data columns (total 3 columns):\n",
      " #   Column      Non-Null Count  Dtype \n",
      "---  ------      --------------  ----- \n",
      " 0   sentence1   9842 non-null   object\n",
      " 1   sentence2   9842 non-null   object\n",
      " 2   gold_label  9842 non-null   object\n",
      "dtypes: object(3)\n",
      "memory usage: 230.8+ KB\n"
     ]
    }
   ],
   "source": [
    "DATA_DIR = \"./snli_1.0/\"\n",
    "DATA = {'sentence1':[],'sentence2':[],'gold_label':[]}\n",
    "\n",
    "with open(os.path.join(DATA_DIR,\"snli_1.0_dev.jsonl\")) as f:\n",
    "    for line in f.readlines():\n",
    "        d = json.loads(line)\n",
    "        if d['gold_label']!='-':\n",
    "            DATA['sentence1'].append(d['sentence1'])\n",
    "            DATA['sentence2'].append(d['sentence2'])\n",
    "            DATA['gold_label'].append(d['gold_label'])\n",
    "dt = pd.DataFrame(DATA)\n",
    "dt.info()"
   ]
  },
  {
   "cell_type": "code",
   "execution_count": 3,
   "id": "acf5e3c1",
   "metadata": {},
   "outputs": [
    {
     "data": {
      "text/plain": [
       "0    Two women are embracing while holding to go pa...\n",
       "1    Two women are embracing while holding to go pa...\n",
       "2    Two women are embracing while holding to go pa...\n",
       "3    Two young children in blue jerseys, one with t...\n",
       "4    Two young children in blue jerseys, one with t...\n",
       "dtype: object"
      ]
     },
     "execution_count": 3,
     "metadata": {},
     "output_type": "execute_result"
    }
   ],
   "source": [
    "c = dt['sentence1']+dt['sentence2']\n",
    "c.head()"
   ]
  },
  {
   "cell_type": "code",
   "execution_count": 4,
   "id": "b4f8d6c0",
   "metadata": {},
   "outputs": [],
   "source": [
    "from keras.preprocessing.text import Tokenizer\n",
    "tokenizer = Tokenizer(lower=True,num_words=None,oov_token='<oov>',char_level=False,filters='!\"#$%&()*+,-./:;<=>?@[\\]^_`{|}~ ')\n",
    "tokenizer.fit_on_texts(c)"
   ]
  },
  {
   "cell_type": "code",
   "execution_count": 5,
   "id": "908b2611",
   "metadata": {},
   "outputs": [
    {
     "data": {
      "text/plain": [
       "6580"
      ]
     },
     "execution_count": 5,
     "metadata": {},
     "output_type": "execute_result"
    }
   ],
   "source": [
    "len(tokenizer.word_counts)"
   ]
  },
  {
   "cell_type": "code",
   "execution_count": 6,
   "id": "8739d808",
   "metadata": {},
   "outputs": [],
   "source": [
    "freq = list(tokenizer.word_counts.values())"
   ]
  },
  {
   "cell_type": "code",
   "execution_count": 7,
   "id": "24805246",
   "metadata": {},
   "outputs": [
    {
     "name": "stdout",
     "output_type": "stream",
     "text": [
      "freq bigger than 1: 4812\n",
      "freq bigger than 2: 4372\n",
      "freq bigger than 3: 3159\n",
      "freq bigger than 4: 2704\n",
      "freq bigger than 5: 2406\n"
     ]
    }
   ],
   "source": [
    "high_freq5 = [x for x in freq if x>5]\n",
    "high_freq4 = [x for x in freq if x>4]\n",
    "high_freq3 = [x for x in freq if x>3]\n",
    "high_freq2 = [x for x in freq if x>2]\n",
    "high_freq1 = [x for x in freq if x>1]\n",
    "high_freq = [high_freq1,high_freq2,high_freq3,high_freq4,high_freq5]\n",
    "for i in range(5):\n",
    "    print(\"freq bigger than {}: {}\".format(i+1,len(high_freq[i])))"
   ]
  },
  {
   "cell_type": "code",
   "execution_count": 8,
   "id": "97b1f5c4",
   "metadata": {},
   "outputs": [
    {
     "name": "stdout",
     "output_type": "stream",
     "text": [
      "95\n"
     ]
    }
   ],
   "source": [
    "premise_len = [len(seq.split()) for seq in c]\n",
    "max_premise_len = max(premise_len)\n",
    "print(max_premise_len)"
   ]
  },
  {
   "cell_type": "code",
   "execution_count": null,
   "id": "37e5e465",
   "metadata": {},
   "outputs": [],
   "source": []
  },
  {
   "cell_type": "code",
   "execution_count": null,
   "id": "a7bf0a30",
   "metadata": {},
   "outputs": [],
   "source": []
  }
 ],
 "metadata": {
  "kernelspec": {
   "display_name": "Python 3 (ipykernel)",
   "language": "python",
   "name": "python3"
  },
  "language_info": {
   "codemirror_mode": {
    "name": "ipython",
    "version": 3
   },
   "file_extension": ".py",
   "mimetype": "text/x-python",
   "name": "python",
   "nbconvert_exporter": "python",
   "pygments_lexer": "ipython3",
   "version": "3.7.12"
  }
 },
 "nbformat": 4,
 "nbformat_minor": 5
}
